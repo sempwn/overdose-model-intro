{
 "cells": [
  {
   "cell_type": "markdown",
   "metadata": {},
   "source": [
    "# Libraries\n",
    "\n",
    "In cell below run <kbd>⇧ Shift</kbd>+<kbd>↵ Enter</kbd> in order to load libraries for this session"
   ]
  },
  {
   "cell_type": "code",
   "execution_count": 1,
   "metadata": {},
   "outputs": [
    {
     "name": "stdout",
     "output_type": "stream",
     "text": [
      "Populating the interactive namespace from numpy and matplotlib\n"
     ]
    }
   ],
   "source": [
    "# The following loads in the major numerical and plotting libraries for python in a notebook\n",
    "% pylab inline\n",
    "# Load the probabilistic programming language pymc3\n",
    "import pymc3 as pm\n",
    "# set some plotting parameters to create ggplot-style plots\n",
    "import seaborn as sns\n",
    "import matplotlib as mpl\n",
    "sns.set_context(context='talk',font_scale=1.5)\n",
    "plt.style.use('ggplot')\n",
    "mpl.rcParams['axes.labelsize'] = 24"
   ]
  },
  {
   "cell_type": "markdown",
   "metadata": {},
   "source": [
    "# Background"
   ]
  },
  {
   "cell_type": "markdown",
   "metadata": {},
   "source": [
    "The model makes use of a Bayesian analysis framework for a number of reasons\n",
    "\n",
    "0. Bayesian analysis is __generative__. \n",
    "\n",
    "    This means that we're able to *re-create* our data multiple times through the Bayesian posterior. These multiple data-sets can then be used to build up an understanding of uncertainty.\n",
    "    \n",
    "0. It allows us to incorporate __prior knowledge__ of parameters.\n",
    "\n",
    "    We can introduce literature-based estimates or expert opinion for things like overdose rate or prevalence of opioid use disorder. These priors can then be updated from data we present the model, however if the data is not informative of a given parameter, then at least we have the prior to fall back on. This is especially useful when dealing with possibly limited data.\n",
    "    \n",
    "0. We can incorporate __model structure__.\n",
    "    \n",
    "    Most Bayesian models can be written out like a recipe for how we believe our data is being generated. This allows us to incorporate not only processes driving what we're interested in (e.g. illicit opioid-use), but also processes that might bias the data (e.g. systematic under-reporting of overdoses).\n",
    "    \n",
    "0. We can incorporate multiple __data sources__.\n",
    "\n",
    "    Similar to how we can factor in biases due to reporting of data, we can also incorporate how we believe the data should look. e.g. if there are a cluster of overdose cases that mean some months experience many more overdoses than in others then we could explcitly model the clustering effect of these cases (using a [negative-binomial](https://en.wikipedia.org/wiki/Negative_binomial_distribution) for example). In a standard logistic regression we may have to re-scale overdoses to deal with overly-dispersed data, but a Bayesian analysis allows us to be more explicit and transparent where the data came from and how it was generated.\n",
    "    \n",
    "Of course all analysis methods have their caveats and their limitations and Bayesian analysis is no exception. One tricky aspect can be in the actual fitting of data itself (drawing samples from the posterior in Bayesian nomenclature). Often its difficult to know if you have genuine independent samples from the posterior or not and many methods exist in order to test this. Approximate methods also exist for drawing from the posterior, but these methods may shrink the true uncertainty or provide a poor approximation when there is multi-modality in the posterior or exchangeability of parameters.\n",
    "\n",
    "For more information see the book: [Gelman, Andrew, et al. Bayesian data analysis. 2013.](http://www.stat.columbia.edu/~gelman/book/)"
   ]
  },
  {
   "cell_type": "markdown",
   "metadata": {},
   "source": [
    "## Simple example\n",
    "\n",
    "Start with a simple data-generating process. Imagine there are $N$ individuals, and in a given month anyone of them has an equal probability of experiencing an overdose at prevalence $p$. \n",
    "\n",
    "Begin by fixing $N = 10000$, and $p = 0.01$ (i.e. ten-thousand people each have a 1% chance of experiencing an overdose). The number of overdoses in a month $x$, is drawn from a binomial distribution,\n",
    "\n",
    "$$ x \\sim \\text{Bin}(N,p)$$\n",
    "\n",
    "Code to generate 1000 samples of this process is given below,\n"
   ]
  },
  {
   "cell_type": "code",
   "execution_count": 3,
   "metadata": {},
   "outputs": [
    {
     "data": {
      "image/png": "[encoded data removed]",
      "text/plain": [
       "<Figure size 748.8x514.8 with 1 Axes>"
      ]
     },
     "metadata": {},
     "output_type": "display_data"
    }
   ],
   "source": [
    "# define parameters\n",
    "N,p = 10000,0.01\n",
    "\n",
    "# perform draw\n",
    "x = np.random.binomial(N,p,size=1000)\n",
    "\n",
    "# plot histogram (add semi-colons to plt commands to suppress output)\n",
    "plt.figure();\n",
    "plt.hist(x,bins=30);\n",
    "plt.xlabel('Number of overdoses');\n",
    "plt.ylabel('Count');"
   ]
  },
  {
   "cell_type": "markdown",
   "metadata": {},
   "source": [
    "### Hints\n",
    "\n",
    "Use <kbd>↹ Tab</kbd> for auto-complete (helpful if can't remember exact commands). Use <kbd>⇧ Shift</kbd>+<kbd>↹ Tab</kbd> in order to view the doc-string for a particular method (helpful to see what method does and what input it takes)."
   ]
  },
  {
   "cell_type": "markdown",
   "metadata": {},
   "source": [
    "### Adding in time\n",
    "\n",
    "Instead of having a process that's being generated for just a given month, imagine instead we want to generate the process over a number of months. Draw samples of the number of overdoses for a year using the following,"
   ]
  },
  {
   "cell_type": "code",
   "execution_count": 6,
   "metadata": {},
   "outputs": [
    {
     "name": "stdout",
     "output_type": "stream",
     "text": [
      "Data generated is a 12 by 1000 array\n"
     ]
    }
   ],
   "source": [
    "# define parameters\n",
    "N,p = 10000,0.01\n",
    "\n",
    "# define number of months and number of samples\n",
    "n_months = 12\n",
    "n_samples = 1000\n",
    "\n",
    "# generate data\n",
    "x = np.random.binomial(N,p,size=(n_months,n_samples))\n",
    "\n",
    "# check the shape of the data generated\n",
    "print('Data generated is a {} by {} array'.format(*x.shape))"
   ]
  },
  {
   "cell_type": "markdown",
   "metadata": {},
   "source": [
    "### Stylistic point\n",
    "\n",
    "Define a method to create a plot of the time-series data. For the method we use the [numpy docstring](https://numpydoc.readthedocs.io/en/latest/format.html). This provides a consistent way of documenting methods and makes it easier to use automatic documentation such as [sphinx](http://www.sphinx-doc.org/en/master/)."
   ]
  },
  {
   "cell_type": "code",
   "execution_count": null,
   "metadata": {},
   "outputs": [],
   "source": [
    "def plot_data_timeseries(data, ):\n",
    "    '''\n",
    "    Plot 95 percentiles and interquartile range draws of time series data\n",
    "    \n",
    "    Parameters\n",
    "    ----------\n",
    "    \n",
    "    data \n",
    "    '''\n",
    "    plt.figure();\n",
    "    lc,uc = np.percentile(x,[2.5,97.5],axis=0)"
   ]
  },
  {
   "cell_type": "markdown",
   "metadata": {},
   "source": [
    "# Sensitivty Analyses\n",
    "\n",
    "For more information on Bayesian model checking and sensitivity see Chapter 6 of Gelman: [Gelman, Andrew, et al. Bayesian data analysis. 2013.](http://www.stat.columbia.edu/~gelman/bayescomputation/bdachapter6.pdf)"
   ]
  },
  {
   "cell_type": "markdown",
   "metadata": {},
   "source": [
    "## Leave one out cross validation\n",
    "\n",
    "Want to know how much each individual dataset influences the results and how predictive the model is of that data. We can use a leave-one-out cross-validation scheme in order to accomplish this. For background on technique see [Sweeting, M. J., et al. *Estimating hepatitis C prevalence in England and Wales by synthesizing evidence from multiple data sources. Assessing data conflict and model fit.* Biostatistics 9.4 (2008): 715-734.](https://doi.org/10.1093/biostatistics/kxn004)"
   ]
  },
  {
   "cell_type": "markdown",
   "metadata": {},
   "source": [
    "## Subjunctive Bayes\n",
    "\n",
    "What if we were wrong about one of our priors? We can take a prior (for example, population at risk) and then change either the mean, variance or shape of the prior and then re-run analysis and compare posterior (this is known as subjunctive Bayes)"
   ]
  },
  {
   "cell_type": "markdown",
   "metadata": {},
   "source": [
    "## Model comparison\n",
    "\n",
    "Alternative model structures could be likely (e.g. what if probability of death following an overdose is being driven by other external factors?). We can re-create the model using these alternative hypotheses and re-fit to produce a posterior estimate. \n",
    "\n",
    "We can then either check:\n",
    "0. The main model outcome to see if it robust to these changes\n",
    "0. Use a Bayesian information criterion such as the Deviance Information Criterion (DIC) or Widely-Applicable Information Criterion (WAIC) in order to perform model selection"
   ]
  },
  {
   "cell_type": "code",
   "execution_count": null,
   "metadata": {},
   "outputs": [],
   "source": []
  }
 ],
 "metadata": {
  "anaconda-cloud": {},
  "kernelspec": {
   "display_name": "Python [conda root]",
   "language": "python",
   "name": "conda-root-py"
  },
  "language_info": {
   "codemirror_mode": {
    "name": "ipython",
    "version": 2
   },
   "file_extension": ".py",
   "mimetype": "text/x-python",
   "name": "python",
   "nbconvert_exporter": "python",
   "pygments_lexer": "ipython2",
   "version": "2.7.14"
  }
 },
 "nbformat": 4,
 "nbformat_minor": 2
}
